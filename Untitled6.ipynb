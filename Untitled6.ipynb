{
  "nbformat": 4,
  "nbformat_minor": 0,
  "metadata": {
    "colab": {
      "provenance": [],
      "authorship_tag": "ABX9TyPeByKGiO9Y2NQbtTHzILHP",
      "include_colab_link": true
    },
    "kernelspec": {
      "name": "python3",
      "display_name": "Python 3"
    },
    "language_info": {
      "name": "python"
    }
  },
  "cells": [
    {
      "cell_type": "markdown",
      "metadata": {
        "id": "view-in-github",
        "colab_type": "text"
      },
      "source": [
        "<a href=\"https://colab.research.google.com/github/msali64/python_basics1/blob/main/Untitled6.ipynb\" target=\"_parent\"><img src=\"https://colab.research.google.com/assets/colab-badge.svg\" alt=\"Open In Colab\"/></a>"
      ]
    },
    {
      "cell_type": "code",
      "execution_count": null,
      "metadata": {
        "colab": {
          "base_uri": "https://localhost:8080/"
        },
        "id": "JR1ZStPYdP0f",
        "outputId": "7bd25645-21c9-4f9b-c2ea-9d6ab5bab5ae"
      },
      "outputs": [
        {
          "output_type": "execute_result",
          "data": {
            "text/plain": [
              "array([38, 34, 39, 48, 31, 38, 44, 44, 30, 40, 45, 41, 48, 46, 45])"
            ]
          },
          "metadata": {},
          "execution_count": 2
        }
      ],
      "source": [
        "import pandas as pd\n",
        "import numpy as np\n",
        "a=np.random.randint(30,50,15)\n",
        "a"
      ]
    },
    {
      "cell_type": "code",
      "source": [
        "a[12]"
      ],
      "metadata": {
        "colab": {
          "base_uri": "https://localhost:8080/"
        },
        "id": "ufA-IAAsdTfh",
        "outputId": "1ac37b59-9f87-4b15-a412-80fe2dbe986f"
      },
      "execution_count": null,
      "outputs": [
        {
          "output_type": "execute_result",
          "data": {
            "text/plain": [
              "48"
            ]
          },
          "metadata": {},
          "execution_count": 3
        }
      ]
    },
    {
      "cell_type": "code",
      "source": [
        "a[-2:-10:-1]"
      ],
      "metadata": {
        "colab": {
          "base_uri": "https://localhost:8080/"
        },
        "id": "47UO9S7Qdc8j",
        "outputId": "d2da0e2a-ca63-45f2-c6c6-8094cc8fbe60"
      },
      "execution_count": null,
      "outputs": [
        {
          "output_type": "execute_result",
          "data": {
            "text/plain": [
              "array([46, 48, 41, 45, 40, 30, 44, 44])"
            ]
          },
          "metadata": {},
          "execution_count": 4
        }
      ]
    },
    {
      "cell_type": "code",
      "source": [
        "np.random.seed(94)\n",
        "b=np.random.randint(45,78,(7,8))\n",
        "b"
      ],
      "metadata": {
        "colab": {
          "base_uri": "https://localhost:8080/"
        },
        "id": "owPRyG1PdgmZ",
        "outputId": "27ba9a86-5f5c-4f90-99a7-381b37984caf"
      },
      "execution_count": null,
      "outputs": [
        {
          "output_type": "execute_result",
          "data": {
            "text/plain": [
              "array([[63, 45, 48, 67, 74, 64, 61, 53],\n",
              "       [61, 59, 55, 77, 69, 69, 48, 60],\n",
              "       [71, 56, 51, 58, 59, 47, 68, 77],\n",
              "       [46, 45, 52, 74, 65, 53, 60, 55],\n",
              "       [64, 72, 46, 69, 65, 75, 75, 51],\n",
              "       [75, 67, 53, 77, 60, 67, 67, 47],\n",
              "       [75, 54, 74, 69, 54, 64, 52, 61]])"
            ]
          },
          "metadata": {},
          "execution_count": 5
        }
      ]
    },
    {
      "cell_type": "code",
      "source": [
        "b[2]"
      ],
      "metadata": {
        "colab": {
          "base_uri": "https://localhost:8080/"
        },
        "id": "Q-THBpwudjtt",
        "outputId": "237ae595-db9d-4ac8-d6b3-f1f199fdea38"
      },
      "execution_count": null,
      "outputs": [
        {
          "output_type": "execute_result",
          "data": {
            "text/plain": [
              "array([71, 56, 51, 58, 59, 47, 68, 77])"
            ]
          },
          "metadata": {},
          "execution_count": 6
        }
      ]
    },
    {
      "cell_type": "code",
      "source": [
        "b[6,4]"
      ],
      "metadata": {
        "colab": {
          "base_uri": "https://localhost:8080/"
        },
        "id": "ImTk74kDdmk4",
        "outputId": "9e159064-04e6-4ce7-cc16-d5a4337f882a"
      },
      "execution_count": null,
      "outputs": [
        {
          "output_type": "execute_result",
          "data": {
            "text/plain": [
              "54"
            ]
          },
          "metadata": {},
          "execution_count": 7
        }
      ]
    },
    {
      "cell_type": "code",
      "source": [
        "b[5,6]"
      ],
      "metadata": {
        "colab": {
          "base_uri": "https://localhost:8080/"
        },
        "id": "24QiGIa7dsGz",
        "outputId": "2169a5de-7790-4a95-eda6-b3ed3e1b223b"
      },
      "execution_count": null,
      "outputs": [
        {
          "output_type": "execute_result",
          "data": {
            "text/plain": [
              "67"
            ]
          },
          "metadata": {},
          "execution_count": 8
        }
      ]
    },
    {
      "cell_type": "code",
      "source": [
        "b[1:5]"
      ],
      "metadata": {
        "colab": {
          "base_uri": "https://localhost:8080/"
        },
        "id": "gYXhGNUYdzwh",
        "outputId": "12b31673-8985-45ce-9f5a-4321c274891b"
      },
      "execution_count": null,
      "outputs": [
        {
          "output_type": "execute_result",
          "data": {
            "text/plain": [
              "array([[61, 59, 55, 77, 69, 69, 48, 60],\n",
              "       [71, 56, 51, 58, 59, 47, 68, 77],\n",
              "       [46, 45, 52, 74, 65, 53, 60, 55],\n",
              "       [64, 72, 46, 69, 65, 75, 75, 51]])"
            ]
          },
          "metadata": {},
          "execution_count": 9
        }
      ]
    },
    {
      "cell_type": "code",
      "source": [
        "b[1:5,1:5]"
      ],
      "metadata": {
        "colab": {
          "base_uri": "https://localhost:8080/"
        },
        "id": "9NM7jYxnefF2",
        "outputId": "8903e806-c5d0-43b4-ff72-5e157f7c3848"
      },
      "execution_count": null,
      "outputs": [
        {
          "output_type": "execute_result",
          "data": {
            "text/plain": [
              "array([[59, 55, 77, 69],\n",
              "       [56, 51, 58, 59],\n",
              "       [45, 52, 74, 65],\n",
              "       [72, 46, 69, 65]])"
            ]
          },
          "metadata": {},
          "execution_count": 10
        }
      ]
    },
    {
      "cell_type": "code",
      "source": [
        "b"
      ],
      "metadata": {
        "colab": {
          "base_uri": "https://localhost:8080/"
        },
        "id": "rgMVmyRjfBXV",
        "outputId": "43a69c6b-696b-4075-ad87-0e739a820eb3"
      },
      "execution_count": null,
      "outputs": [
        {
          "output_type": "execute_result",
          "data": {
            "text/plain": [
              "array([[63, 45, 48, 67, 74, 64, 61, 53],\n",
              "       [61, 59, 55, 77, 69, 69, 48, 60],\n",
              "       [71, 56, 51, 58, 59, 47, 68, 77],\n",
              "       [46, 45, 52, 74, 65, 53, 60, 55],\n",
              "       [64, 72, 46, 69, 65, 75, 75, 51],\n",
              "       [75, 67, 53, 77, 60, 67, 67, 47],\n",
              "       [75, 54, 74, 69, 54, 64, 52, 61]])"
            ]
          },
          "metadata": {},
          "execution_count": 14
        }
      ]
    },
    {
      "cell_type": "code",
      "source": [
        "b[1:7,1:7]"
      ],
      "metadata": {
        "colab": {
          "base_uri": "https://localhost:8080/"
        },
        "id": "XI1wsW3EfwJl",
        "outputId": "5b15ca64-4aa8-4931-8767-d130ce2e7c6f"
      },
      "execution_count": null,
      "outputs": [
        {
          "output_type": "execute_result",
          "data": {
            "text/plain": [
              "array([[59, 55, 77, 69, 69, 48],\n",
              "       [56, 51, 58, 59, 47, 68],\n",
              "       [45, 52, 74, 65, 53, 60],\n",
              "       [72, 46, 69, 65, 75, 75],\n",
              "       [67, 53, 77, 60, 67, 67],\n",
              "       [54, 74, 69, 54, 64, 52]])"
            ]
          },
          "metadata": {},
          "execution_count": 18
        }
      ]
    },
    {
      "cell_type": "code",
      "source": [
        "b[-7:-1,-7:-1]"
      ],
      "metadata": {
        "colab": {
          "base_uri": "https://localhost:8080/"
        },
        "id": "vQZw1HYOh-co",
        "outputId": "b1f1b1c8-bd0f-43b5-f5dc-4cf2807c368b"
      },
      "execution_count": null,
      "outputs": [
        {
          "output_type": "execute_result",
          "data": {
            "text/plain": [
              "array([[45, 48, 67, 74, 64, 61],\n",
              "       [59, 55, 77, 69, 69, 48],\n",
              "       [56, 51, 58, 59, 47, 68],\n",
              "       [45, 52, 74, 65, 53, 60],\n",
              "       [72, 46, 69, 65, 75, 75],\n",
              "       [67, 53, 77, 60, 67, 67]])"
            ]
          },
          "metadata": {},
          "execution_count": 26
        }
      ]
    },
    {
      "cell_type": "code",
      "source": [
        "b[2,1:4:7]"
      ],
      "metadata": {
        "colab": {
          "base_uri": "https://localhost:8080/"
        },
        "id": "d5mL5uS4il9u",
        "outputId": "937b57c0-7847-49ff-dbe8-cd5c6b7266ff"
      },
      "execution_count": null,
      "outputs": [
        {
          "output_type": "execute_result",
          "data": {
            "text/plain": [
              "array([56])"
            ]
          },
          "metadata": {},
          "execution_count": 28
        }
      ]
    },
    {
      "cell_type": "code",
      "source": [
        "b[]"
      ],
      "metadata": {
        "colab": {
          "base_uri": "https://localhost:8080/"
        },
        "id": "CIC_sgX5j1eB",
        "outputId": "b9614ea9-7c47-4cca-9be0-82c1c0bdbd66"
      },
      "execution_count": null,
      "outputs": [
        {
          "output_type": "execute_result",
          "data": {
            "text/plain": [
              "array([61, 59, 55, 77, 69, 69, 48, 60])"
            ]
          },
          "metadata": {},
          "execution_count": 33
        }
      ]
    },
    {
      "cell_type": "code",
      "source": [
        "np.where(b>30)"
      ],
      "metadata": {
        "id": "hmCMojLekYui",
        "colab": {
          "base_uri": "https://localhost:8080/"
        },
        "outputId": "9f578f6d-43ca-4938-f970-00993e417640"
      },
      "execution_count": 34,
      "outputs": [
        {
          "output_type": "execute_result",
          "data": {
            "text/plain": [
              "(array([0, 0, 0, 0, 0, 0, 0, 0, 1, 1, 1, 1, 1, 1, 1, 1, 2, 2, 2, 2, 2, 2,\n",
              "        2, 2, 3, 3, 3, 3, 3, 3, 3, 3, 4, 4, 4, 4, 4, 4, 4, 4, 5, 5, 5, 5,\n",
              "        5, 5, 5, 5, 6, 6, 6, 6, 6, 6, 6, 6]),\n",
              " array([0, 1, 2, 3, 4, 5, 6, 7, 0, 1, 2, 3, 4, 5, 6, 7, 0, 1, 2, 3, 4, 5,\n",
              "        6, 7, 0, 1, 2, 3, 4, 5, 6, 7, 0, 1, 2, 3, 4, 5, 6, 7, 0, 1, 2, 3,\n",
              "        4, 5, 6, 7, 0, 1, 2, 3, 4, 5, 6, 7]))"
            ]
          },
          "metadata": {},
          "execution_count": 34
        }
      ]
    },
    {
      "cell_type": "code",
      "source": [
        "np.where(b>40)"
      ],
      "metadata": {
        "colab": {
          "base_uri": "https://localhost:8080/"
        },
        "id": "23FMQuupnG0P",
        "outputId": "c7421404-bf18-4768-afab-f74f3bbdce33"
      },
      "execution_count": 35,
      "outputs": [
        {
          "output_type": "execute_result",
          "data": {
            "text/plain": [
              "(array([0, 0, 0, 0, 0, 0, 0, 0, 1, 1, 1, 1, 1, 1, 1, 1, 2, 2, 2, 2, 2, 2,\n",
              "        2, 2, 3, 3, 3, 3, 3, 3, 3, 3, 4, 4, 4, 4, 4, 4, 4, 4, 5, 5, 5, 5,\n",
              "        5, 5, 5, 5, 6, 6, 6, 6, 6, 6, 6, 6]),\n",
              " array([0, 1, 2, 3, 4, 5, 6, 7, 0, 1, 2, 3, 4, 5, 6, 7, 0, 1, 2, 3, 4, 5,\n",
              "        6, 7, 0, 1, 2, 3, 4, 5, 6, 7, 0, 1, 2, 3, 4, 5, 6, 7, 0, 1, 2, 3,\n",
              "        4, 5, 6, 7, 0, 1, 2, 3, 4, 5, 6, 7]))"
            ]
          },
          "metadata": {},
          "execution_count": 35
        }
      ]
    },
    {
      "cell_type": "code",
      "source": [],
      "metadata": {
        "id": "T4Gl71b8nT5C"
      },
      "execution_count": null,
      "outputs": []
    }
  ]
}